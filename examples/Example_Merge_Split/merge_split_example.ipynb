{
 "cells": [
  {
   "cell_type": "code",
   "execution_count": null,
   "id": "5e0393d5-832d-4347-aa0f-6e5d160d6aa7",
   "metadata": {},
   "outputs": [],
   "source": [
    "import numpy as np\n",
    "import matplotlib.pyplot as plt\n",
    "# import cartopy.crs as ccrs\n",
    "# import cartopy.feature as cfeature\n",
    "import xarray as xr\n",
    "import pyart\n",
    "# import glob\n",
    "import datetime\n",
    "import matplotlib.gridspec as gridspec\n",
    "import pandas as pd\n",
    "import os\n",
    "from pathlib import Path"
   ]
  },
  {
   "cell_type": "code",
   "execution_count": null,
   "id": "299e1bee-c19b-4fc5-9c07-8c5872308ce3",
   "metadata": {},
   "outputs": [],
   "source": [
    "path = \"/Users/kelcy/DATA/20080411/\"\n",
    "# https://zenodo.org/records/8184875"
   ]
  },
  {
   "cell_type": "code",
   "execution_count": null,
   "id": "e0b506c2-36ac-4cd4-8321-501c172cba3c",
   "metadata": {},
   "outputs": [],
   "source": [
    "all_xr_data = xr.open_dataset(path+\"20080411_all_gridded.nc\")"
   ]
  },
  {
   "cell_type": "code",
   "execution_count": null,
   "id": "0bc96924-e44a-4c63-a078-af3b2c1fd4d1",
   "metadata": {},
   "outputs": [],
   "source": [
    "all_xr_data"
   ]
  },
  {
   "cell_type": "code",
   "execution_count": null,
   "id": "0a9a6d03-bb2b-43c1-b727-9a3f420a1254",
   "metadata": {},
   "outputs": [],
   "source": [
    "all_xr_data.reflectivity.isel(time=5, z=5).plot(cmap='Spectral_r', vmin=-20, vmax=70)"
   ]
  },
  {
   "cell_type": "markdown",
   "id": "999f46e9-1fda-4fd5-92db-27ddde488097",
   "metadata": {},
   "source": [
    "tobac is designed to work with gridded data currently, so using pre-gridded data, or data we must first grid the radial radar data. This is a quick and dirty gridding, but it will get the job done for this tutorial. Much better gridding results could be had with tuning of the parameters."
   ]
  },
  {
   "cell_type": "markdown",
   "id": "b92de8b2-95c6-482b-addd-136f52c8f628",
   "metadata": {},
   "source": [
    "Let's Look at the data - there's a number of ways to do a quick look, we're going to use pcolormesh. We can look at a specific level of the data, or create a composite reflectivity. Let's do both!"
   ]
  },
  {
   "cell_type": "code",
   "execution_count": null,
   "id": "cf626203-3cbb-4370-a2bf-aba0a57c9b11",
   "metadata": {},
   "outputs": [],
   "source": [
    "#QUICK COMPOSITE REFLECTIVITY HERE:\n",
    "maxrefl = all_xr_data['reflectivity'].max(dim='z')\n",
    "maxrefl"
   ]
  },
  {
   "cell_type": "code",
   "execution_count": null,
   "id": "6cd7751f-1f3f-4cd6-916d-1d1119266443",
   "metadata": {},
   "outputs": [],
   "source": [
    "maxrefl.isel(time=5).plot(cmap='Spectral_r', vmin=-20, vmax=70)"
   ]
  },
  {
   "cell_type": "code",
   "execution_count": null,
   "id": "503a824a-7c38-44dc-8054-46ca8cdcd498",
   "metadata": {},
   "outputs": [],
   "source": [
    "import tobac"
   ]
  },
  {
   "cell_type": "markdown",
   "id": "88baeadf-645b-4724-8227-3f2a0e115365",
   "metadata": {},
   "source": [
    "Note that to track in 3D, we must give information about what our height coordinate is. Iris tends to be picky about the naming conventions, so we need to assign standard names as well."
   ]
  },
  {
   "cell_type": "code",
   "execution_count": null,
   "id": "2551866b-bf65-493b-a7fd-38471ff74ef6",
   "metadata": {},
   "outputs": [],
   "source": [
    "maxrefl.lat.attrs[\"standard_name\"] = \"latitude\"\n",
    "maxrefl.lon.attrs[\"standard_name\"] = \"longitude\""
   ]
  },
  {
   "cell_type": "code",
   "execution_count": null,
   "id": "cfb2d606-d3e4-4571-9c79-5a9e31fb5fef",
   "metadata": {},
   "outputs": [],
   "source": [
    "maxrefl_iris = maxrefl.to_iris()"
   ]
  },
  {
   "cell_type": "code",
   "execution_count": null,
   "id": "006bb866-5568-4d7c-8904-e4de6ceee632",
   "metadata": {},
   "outputs": [],
   "source": [
    "dxy, dt = tobac.utils.get_spacings(grid_iris)\n",
    "print(dxy)\n",
    "print(dt)"
   ]
  },
  {
   "cell_type": "code",
   "execution_count": null,
   "id": "b31b57f6-c289-4939-8011-7bf32c046f99",
   "metadata": {},
   "outputs": [],
   "source": [
    "savedir = Path(\"Save\")\n",
    "if not savedir.is_dir():\n",
    "    savedir.mkdir()\n",
    "plot_dir = Path(\"Plot\")\n",
    "if not plot_dir.is_dir():\n",
    "    plot_dir.mkdir()"
   ]
  },
  {
   "cell_type": "code",
   "execution_count": null,
   "id": "79ed0238-e714-4fc0-998d-980b279e0bea",
   "metadata": {},
   "outputs": [],
   "source": [
    "#FIND OUR FEATURES!\n",
    "\n",
    "print('starting feature detection based on multiple thresholds')\n",
    "Features_df = tobac.feature_detection_multithreshold(maxrefl_iris, dxy, **feature_detection_params)\n",
    "\n",
    "Features=Features_df.to_xarray()\n",
    "print('feature detection done')\n",
    "\n",
    "Features.to_netcdf(os.path.join(savedir,'Features.nc'))\n",
    "print('features saved')"
   ]
  },
  {
   "cell_type": "code",
   "execution_count": null,
   "id": "f0c2b877-5f9a-4e5f-83a1-dc11624ee205",
   "metadata": {},
   "outputs": [],
   "source": [
    "Features"
   ]
  },
  {
   "cell_type": "code",
   "execution_count": null,
   "id": "9c97997e-fdfd-4741-be16-58d8a1ca4bbc",
   "metadata": {},
   "outputs": [],
   "source": [
    "fig, ax = plt.subplots(figsize=(10,10))\n",
    "maxrefl.isel(time=5).plot(cmap='Spectral_r', vmin=-20, vmax=70)\n",
    "ax.scatter(Features['projection_x_coordinate'],Features['projection_y_coordinate'],s = 1,c = 'red', marker = '.',alpha = 0.65)"
   ]
  },
  {
   "cell_type": "code",
   "execution_count": null,
   "id": "b6bbb9ab-8fb2-454e-b16e-2b17c6d712b3",
   "metadata": {},
   "outputs": [],
   "source": [
    "# Dictionary containing keyword arguments for segmentation step:\n",
    "parameters_segmentation={}\n",
    "parameters_segmentation['method']='watershed'\n",
    "parameters_segmentation['threshold']= 30 \n",
    "parameters_segmentation['target'] = 'maximum'"
   ]
  },
  {
   "cell_type": "code",
   "execution_count": null,
   "id": "f937ac35-57f3-46ae-a9ef-647f21f4f593",
   "metadata": {},
   "outputs": [],
   "source": [
    "# Perform Segmentation and save resulting mask to NetCDF file:\n",
    "print('Starting segmentation based on reflectivity')\n",
    "Mask_iris,Features_Precip =tobac.segmentation.segmentation(Features_df,maxrefl_iris,dxy,**parameters_segmentation)\n",
    "\n",
    "Mask=xr.DataArray.from_iris(Mask_iris)\n",
    "Mask = Mask.to_dataset()\n",
    "\n",
    "\n",
    "#Mask,Features_Precip=segmentation(Features,maxrefl,dxy,**parameters_segmentation)\n",
    "print('segmentation based on reflectivity performed, start saving results to files')\n",
    "Mask.to_netcdf(os.path.join(savedir,'Mask_Segmentation_refl.nc'))    "
   ]
  },
  {
   "cell_type": "code",
   "execution_count": null,
   "id": "377d47f7-9273-4db6-a717-0f6e0902f7b6",
   "metadata": {},
   "outputs": [],
   "source": [
    "# Dictionary containing keyword arguments for the linking step:\n",
    "parameters_linking={}\n",
    "parameters_linking['stubs'] = 5 \n",
    "parameters_linking['method_linking']='predict'\n",
    "parameters_linking['adaptive_stop']=0.2\n",
    "parameters_linking['adaptive_step']=0.95\n",
    "parameters_linking['order']=2 #Order of polynomial for extrapolating\n",
    "parameters_linking['subnetwork_size']=100 \n",
    "parameters_linking['memory']= 3\n",
    "#parameters_linking['time_cell_min']=1\n",
    "parameters_linking['v_max']=25 \n",
    "parameters_linking['d_min']= None "
   ]
  },
  {
   "cell_type": "code",
   "execution_count": null,
   "id": "bf6873b4-4765-4158-9d44-59c561afa983",
   "metadata": {},
   "outputs": [],
   "source": [
    "# Perform trajectory linking using trackpy and save the resulting DataFrame:\n",
    "\n",
    "Track_df=tobac.linking_trackpy(Features_df,Mask_iris,dt=dt,dxy=dxy,**parameters_linking)\n",
    "\n",
    "Track = Track_df.to_xarray()\n",
    "\n",
    "Track.to_netcdf(os.path.join(savedir,'Track.nc'))"
   ]
  },
  {
   "cell_type": "code",
   "execution_count": null,
   "id": "1e145354-6565-4f02-ae8b-8acef1372ad6",
   "metadata": {},
   "outputs": [],
   "source": [
    "d = tobac.merge_split.merge_split_MEST(Track_df,dxy, distance=25000.0)\n",
    "\n",
    "Track = xr.open_dataset(savedir / \"Track.nc\")\n",
    "ds = tobac.utils.standardize_track_dataset(Track, Mask)#, data['ProjectionCoordinateSystem'])\n",
    "both_ds = xr.merge([ds, d],compat ='override')\n",
    "\n",
    "# both_ds = tobac.utils.compress_all(both_ds)\n",
    "both_ds.to_netcdf(os.path.join(savedir,'Track_features_merges.nc'))\n",
    "d.to_netcdf(os.path.join(savedir,'features_merges.nc'))"
   ]
  },
  {
   "cell_type": "code",
   "execution_count": null,
   "id": "a1a8fbc6-6309-4723-a470-39d9f693c2e7",
   "metadata": {},
   "outputs": [],
   "source": [
    "# Track = xr.open_dataset(savedir+\"/Track.nc\")\n",
    "# Features = xr.open_dataset(savedir+\"/Features.nc\")\n",
    "# refl_mask = xr.open_dataset(savedir+\"/Mask_Segmentation_refl.nc\")\n"
   ]
  },
  {
   "cell_type": "code",
   "execution_count": null,
   "id": "08242d9a-6a4d-40fc-ade7-6c116237c598",
   "metadata": {},
   "outputs": [],
   "source": [
    "#\n",
    "frame = 5\n",
    "isolated_min = 0.5\n",
    "show_tracks = True\n",
    "ref_levels = [5,10,15,20,25,30,35,40,45,50,55,60,65,70,75]\n",
    "\n",
    "fig, ax = plt.subplots(figsize=(10,10))\n",
    "\n",
    "refl = maxrefl[frame,:,:] \n",
    "fig.suptitle(str(maxrefl['time'][frame].data)[:-10])\n",
    "y_mesh,x_mesh = np.meshgrid(maxrefl['x'],maxrefl['y'])\n",
    "    \n",
    "refplt = ax.contourf(y_mesh,x_mesh, refl, extend = 'max',levels = ref_levels,cmap='pyart_LangRainbow12',origin = 'lower', vmin=-24, vmax=72)#,extent = [0,-10000,-20000,-10000])\n",
    "fig.colorbar(refplt,fraction=0.046, pad=0.04)\n",
    "i = np.where(Mask['segmentation_mask'][frame,:,:] > 0)\n",
    "    \n",
    "\n",
    "y, x = y_mesh[i[0],i[1]],x_mesh[i[0],i[1]]\n",
    "imcell2 = ax.scatter(y,x,s = 0.1,c = 'gray', marker = '.',alpha = 0.75)\n",
    "    \n",
    "\n",
    "\n",
    "for i in Track['cell']:\n",
    "    if i < 0:\n",
    "        continue\n",
    "    #print(i)\n",
    "    if math.isfinite(i):\n",
    "        cell_i = np.where(d['feature_parent_cell_id'] == i)\n",
    "        if (np.nanmax(Features['frame'][cell_i]) >= frame) and (np.nanmin(Features['frame'][cell_i]) <= frame):\n",
    "            ax.plot(Track['projection_x_coordinate'][cell_i], Track['projection_y_coordinate'][cell_i], '-.',color='r')\n",
    "            ax.text(Track['projection_x_coordinate'][cell_i][-1],Track['projection_y_coordinate'][cell_i][-1], f'{int(i)}', fontsize = 'small',rotation = 'vertical')\n",
    "        else:\n",
    "            continue\n",
    " \n",
    "\n",
    "\n",
    "\n",
    "\n",
    "\n",
    "#     fig.savefig(plot_dir+'/'+'20260331_track_'+str(frame)+'.png')\n",
    "\n",
    "\n"
   ]
  },
  {
   "cell_type": "code",
   "execution_count": null,
   "id": "061e775c-9f35-423c-8208-a2b5c79330eb",
   "metadata": {},
   "outputs": [],
   "source": [
    "#\n",
    "frame = 10\n",
    "isolated_min = 0.5\n",
    "show_tracks = True\n",
    "ref_levels = [5,10,15,20,25,30,35,40,45,50,55,60,65,70,75]\n",
    "\n",
    "fig, ax = plt.subplots(figsize=(10,10))\n",
    "\n",
    "refl = maxrefl[frame,:,:] \n",
    "fig.suptitle(str(maxrefl['time'][frame].data)[:-10])\n",
    "y_mesh,x_mesh = np.meshgrid(maxrefl['x'],maxrefl['y'])\n",
    "    \n",
    "refplt = ax.contourf(y_mesh,x_mesh, refl, extend = 'max',levels = ref_levels,cmap='pyart_LangRainbow12',origin = 'lower', vmin=-24, vmax=72)#,extent = [0,-10000,-20000,-10000])\n",
    "fig.colorbar(refplt,fraction=0.046, pad=0.04)\n",
    "i = np.where(Mask['segmentation_mask'][frame,:,:] > 0)\n",
    "    \n",
    "\n",
    "y, x = y_mesh[i[0],i[1]],x_mesh[i[0],i[1]]\n",
    "imcell2 = ax.scatter(y,x,s = 0.1,c = 'gray', marker = '.',alpha = 0.75)\n",
    "    \n",
    "\n",
    "\n",
    "\n",
    "for i in both_ds['Track']:\n",
    "    track_i = np.where(both_ds['cell_parent_track_id'] == i.values)\n",
    "    for cell in d['cell'][track_i]:\n",
    "        if cell < 0:\n",
    "            continue\n",
    "\n",
    "        feature_id = np.where(d['feature_parent_cell_id'] == cell)\n",
    "        if (frame <= np.nanmax(Features['frame'][feature_id])) and (frame >= np.nanmin(Features['frame'][feature_id])):\n",
    "            ax.plot(Track['projection_x_coordinate'][feature_id], Track['projection_y_coordinate'][feature_id], '-.',color='b',alpha = 0.5)\n",
    "            ax.text(Track['projection_x_coordinate'][feature_id][-1],Track['projection_y_coordinate'][feature_id][-1], f'{int(i)}', fontsize = 'small',rotation = 'vertical')\n",
    "        else:\n",
    "            continue\n",
    "\n",
    "\n",
    "\n",
    "\n",
    "\n",
    "#     fig.savefig(plot_dir+'/'+'20260331_track_'+str(frame)+'.png')\n",
    "\n",
    "\n"
   ]
  }
 ],
 "metadata": {
  "kernelspec": {
   "display_name": "Python [conda env:PAWS39] *",
   "language": "python",
   "name": "conda-env-PAWS39-py"
  },
  "language_info": {
   "codemirror_mode": {
    "name": "ipython",
    "version": 3
   },
   "file_extension": ".py",
   "mimetype": "text/x-python",
   "name": "python",
   "nbconvert_exporter": "python",
   "pygments_lexer": "ipython3",
   "version": "3.9.18"
  }
 },
 "nbformat": 4,
 "nbformat_minor": 5
}
